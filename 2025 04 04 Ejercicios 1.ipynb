{
 "cells": [
  {
   "cell_type": "markdown",
   "id": "29acf15a",
   "metadata": {},
   "source": [
    "## Ejercicio 1"
   ]
  },
  {
   "cell_type": "markdown",
   "id": "8f83e53b",
   "metadata": {},
   "source": [
    "1) Realizar la clase Punto, para almacenar las coordenadas (x, y) de un punto. Realizar una función calcule la\n",
    "distancia entre 2 puntos en el plano. La función tiene 2 argumentos que son 2 objetos de la clase Punto"
   ]
  },
  {
   "cell_type": "code",
   "execution_count": null,
   "id": "1bf823b5",
   "metadata": {},
   "outputs": [
    {
     "name": "stdout",
     "output_type": "stream",
     "text": [
      "Coordenadas del primer punto:[ 2.0 , 6.0 ]\n",
      "Coordenadas del segundo punto:[ 8.0 , 15.0 ]\n",
      "La distancia entre los puntos es: 10.816653826391969\n"
     ]
    }
   ],
   "source": [
    "class Punto: # Clase punto donde se almacenan las coordenadas\n",
    "    def __init__(self, x :float, y: float) ->None:\n",
    "        self.x = x \n",
    "        self.y = y\n",
    "\n",
    "def distancia (punto1, punto2) -> float: # Función que calcula la distancia \n",
    "    return (((punto2.x-punto1.x)**2)+((punto2.y-punto1.y)**2))**0.5\n",
    "\n",
    "###############################################################################################\n",
    "\n",
    "def main() -> None: # Por buenas práctica uso la función main para lanzar el ejercicio asi no puede usarse este modulo fuera del programa en el que estoy\n",
    "    x1 = float(input(\"x1: \"))\n",
    "    y1 = float(input(\"y1: \"))\n",
    "    p1 = Punto(x1, y1)\n",
    "    print(f\"Coordenadas del primer punto:[ {x1} , {y1} ]\")\n",
    "    \n",
    "    x2 = float(input(\"x2: \"))\n",
    "    y2 = float(input(\"y2: \"))\n",
    "    p2 = Punto(x2, y2)\n",
    "    print(f\"Coordenadas del segundo punto:[ {x2} , {y2} ]\")\n",
    "\n",
    "    d = distancia(p1, p2)\n",
    "    print(f\"La distancia entre los puntos es: {d}\")\n",
    "\n",
    "if __name__ == \"__main__\":\n",
    "    main()\n",
    "    "
   ]
  },
  {
   "cell_type": "markdown",
   "id": "3634cad9",
   "metadata": {},
   "source": [
    "2) Realizar la clase Caja, la que guarda las dimensiones de una caja (largo, ancho y alto) y los métodos para\n",
    "cambiar las medidas de la caja, para calcular y devolver el volumen de la caja. No utilizar los comandos\n",
    "input ni print dentro de la clase (capricho del profesor)"
   ]
  },
  {
   "cell_type": "code",
   "execution_count": null,
   "id": "ec0810b9",
   "metadata": {},
   "outputs": [
    {
     "name": "stdout",
     "output_type": "stream",
     "text": [
      "La caja mide: [Largo 4.0, Ancho 6.0, Alto 2.0]\n",
      "El volumen de la caja es: 48.0\n",
      "La caja numero 2 mide: [Largo 3.0, Ancho 5.0, Alto 6.0]\n",
      "El volumen de la caja es: 90.0\n",
      "\n"
     ]
    }
   ],
   "source": [
    "class Caja:\n",
    "    def __init__(self, largo :float, ancho: float, alto: float) -> None: # constructor objeto caja\n",
    "        self.largo = largo \n",
    "        self.ancho = ancho\n",
    "        self.alto = alto\n",
    "    \n",
    "    def newBox (self,largo: float, ancho: float, alto: float) -> None: # caja nueva en caso de que se requiera\n",
    "        self.largo = largo \n",
    "        self.ancho = ancho\n",
    "        self.alto = alto\n",
    "    \n",
    "    def volumen (self) -> float: # Función calcular volumen\n",
    "        return self.largo * self.ancho * self.alto\n",
    "    \n",
    "###############################################################################\n",
    "\n",
    "def main() -> None:\n",
    "    # Ingreso de medidas por parte del usuario\n",
    "    largo = float(input(\"Ingrese el largo de la caja: \"))\n",
    "    ancho = float(input(\"Ingrese el ancho de la caja: \"))\n",
    "    alto = float(input(\"Ingrese el alto de la caja: \"))\n",
    "    \n",
    "    # Construyo la caja numero 1\n",
    "    caja = Caja(largo,ancho,alto)\n",
    "    print(f\"La caja mide: [Largo {caja.largo}, Ancho {caja.ancho}, Alto {caja.alto}]\")\n",
    "    \n",
    "    # Calculo volumen\n",
    "    vol = caja.volumen()\n",
    "    print(f'El volumen de la caja es: {vol}')\n",
    "    \n",
    "    # Inicio la consulta si hay mas cajas por medir\n",
    "    nuevasMedidas = input('¿Quiere ingresar una nueva caja? - Escriba \"esc\" para salir')\n",
    "    cantidadCajas = 1 # Contador de cajas iniciado en 1, ya que se ingreso una caja\n",
    "    \n",
    "    while nuevasMedidas.lower() != \"esc\": # Hay que escribir esc para no ingresar mas cajas\n",
    "        cantidadCajas += 1 # Sumando 1 al contador de cajas\n",
    "        largo = float(input(\"Ingrese el largo de la caja: \"))\n",
    "        ancho = float(input(\"Ingrese el ancho de la caja: \"))\n",
    "        alto = float(input(\"Ingrese el alto de la caja: \"))\n",
    "        \n",
    "        newBox = Caja(largo,ancho,alto)\n",
    "        print(f\"La caja numero {cantidadCajas} mide: [Largo {newBox.largo}, Ancho {newBox.ancho}, Alto {newBox.alto}]\")\n",
    "\n",
    "        vol = newBox.volumen()\n",
    "        print(f'El volumen de la caja es: {vol}')\n",
    "        \n",
    "        nuevasMedidas = input('¿Quiere ingresar una nueva caja? - Escriba \"esc\" para salir')\n",
    "\n",
    "if __name__ == \"__main__\":\n",
    "    main()\n"
   ]
  },
  {
   "cell_type": "markdown",
   "id": "8602ed7f",
   "metadata": {},
   "source": [
    "3) Realizar la clase Dado, que simule el comportamiento y las acciones que se puede hacer con un dado, por ejemplo para el juego de la oca, ludo o similar. No utilizar los comandos input ni print dentro de la clase (capricho del profesor)"
   ]
  },
  {
   "cell_type": "code",
   "execution_count": null,
   "id": "55c397f2",
   "metadata": {},
   "outputs": [],
   "source": [
    "import random\n",
    "\n",
    "class Dado:\n",
    "    def __init__(self, caras: int) -> None: # constructor objeto dado ( es un dado totalmente personalizable )\n",
    "        self.caras = caras\n",
    "        self.dado = []\n",
    "    \n",
    "    def tirar (self) -> int: # De la lista construida por el usuario, elijo un valor al azar\n",
    "        return random.choice(self.dado)\n",
    "    \n",
    "class Vaso:\n",
    "    def __init__(self, cantDados : int) -> None: # Hago la clase vaso donde pongo varios dados\n",
    "        self.cantDados = cantDados\n",
    "\n",
    "##################################################################################################################\n",
    "\n",
    "def main() -> None:\n",
    "    caras = int(input('Ingrese cantidad de Caras')) # Pido al usuario que ingrese la cantidad de carass del dado\n",
    "\n",
    "    miDado = Dado(caras)\n",
    "\n",
    "    while caras > 0:\n",
    "        numero = int(input(f'Ingrese el valor de la cara {caras}:')) # Personalizo cada cara del dado ¡¡¡ solo admite numeros !!\n",
    "        miDado.dado.append(numero)\n",
    "        caras -= 1\n",
    "    print(f'Su dado es {miDado.dado}') # muestra el Dado\n",
    "\n",
    "    cantDados = int(input('Ingrese la cantidad de dados')) # Pido al usuario que ingrese la cantidad de dados\n",
    "\n",
    "    vaso = Vaso(cantDados) # Tiene la cantidad de dados ¡¡ se usa para algo o me equivoque !!\n",
    "\n",
    "    suma = 0 # Pongo la suma a mostrar el cero\n",
    "\n",
    "    dados_lanzados = cantDados # igualo cantidad de dados a dados_lanzados para futuros usos\n",
    "    \n",
    "    tiradas = 0\n",
    "\n",
    "    while cantDados > 0:\n",
    "        resultado = miDado.tirar()\n",
    "        suma += resultado\n",
    "        cantDados -= 1\n",
    "        tiradas += 1\n",
    "        print(f'Su tirada número {tiradas}, dio como resultado {resultado}')\n",
    "\n",
    "    print(f\"Usted arrojo {dados_lanzados} dados. El resultado total fue {suma}\")\n",
    "    \n",
    "if __name__ == \"__main__\":\n",
    "    main()"
   ]
  },
  {
   "cell_type": "markdown",
   "id": "0f1a25f8",
   "metadata": {},
   "source": [
    "4) Realizar la clase Cubilete, que permita contener varios dados, tirarlos, visualizar el valor de cada dado y calcular y devolver la suma de los valores de los dados. No utilizar los comandos input ni print dentro de la clase (capricho del profesor)"
   ]
  }
 ],
 "metadata": {
  "kernelspec": {
   "display_name": "Python 3",
   "language": "python",
   "name": "python3"
  },
  "language_info": {
   "codemirror_mode": {
    "name": "ipython",
    "version": 3
   },
   "file_extension": ".py",
   "mimetype": "text/x-python",
   "name": "python",
   "nbconvert_exporter": "python",
   "pygments_lexer": "ipython3",
   "version": "3.13.1"
  }
 },
 "nbformat": 4,
 "nbformat_minor": 5
}
