{
 "cells": [
  {
   "cell_type": "markdown",
   "id": "cb1feab0",
   "metadata": {},
   "source": [
    "## Trabajo Práctico – Clases y Objetos"
   ]
  },
  {
   "cell_type": "markdown",
   "id": "8cf19d04",
   "metadata": {},
   "source": [
    "1) Realizar un programa para calcular el monto total a pagar por cada mesa en un restaurante. Realizar el programa usando objetos para almacenar la información de los pedidos de cada mesa y calcular el importe total a pagar. ¿Qué estructura de datos necesita para almacenar la información?"
   ]
  },
  {
   "cell_type": "code",
   "execution_count": null,
   "id": "6896dedb",
   "metadata": {},
   "outputs": [
    {
     "name": "stdout",
     "output_type": "stream",
     "text": [
      "Milanesa con fritas - $8000\n",
      "Agua mineral - $2000\n",
      "Flan con dulce - $5000\n",
      "Milanesa con fritas - $8000\n",
      "Agua mineral - $2000\n",
      "\n",
      "Total a pagar: $25000\n"
     ]
    }
   ],
   "source": [
    "from tkinter import messagebox\n",
    "\n",
    "class Pedido:\n",
    "    \n",
    "    def __init__(self, codigo: int) -> None:\n",
    "        self.codigo = codigo\n",
    "        self.precio = menu[codigo].get('precio')\n",
    "        \n",
    "    def calcular_precio(self):\n",
    "        return self.precio\n",
    "\n",
    "########################################################################\n",
    "\n",
    "menu = [\n",
    "    {\"codigo\": 0, \"descripcion\": \"Pizza jamon y morron\", \"precio\": 9000},\n",
    "    {\"codigo\": 1, \"descripcion\": \"Milanesa con fritas\", \"precio\": 8000},\n",
    "    {\"codigo\": 2, \"descripcion\": \"Ensalada Caesar\", \"precio\": 6000},\n",
    "    {\"codigo\": 3, \"descripcion\": \"Empanadas (3 unidades)\", \"precio\": 5000},\n",
    "    {\"codigo\": 4, \"descripcion\": \"Flan con dulce\", \"precio\": 5000},\n",
    "    {\"codigo\": 5, \"descripcion\": \"Agua mineral\", \"precio\": 2000},\n",
    "    {\"codigo\": 6, \"descripcion\": \"Coca-Cola 500ml\", \"precio\": 3000}\n",
    "]\n",
    "\n",
    "messagebox.showinfo(\n",
    "    message=\"-Pizza jamon y morron $ 9000\\n -Milanesa con fritas $ 8000\\n - Ensalada Caesar $ 6000\\n - Empanadas (3 unidades) $ 5000\\n - Flan con dulce $ 5000\\n - Agua mineral $ 2000\\n - Coca-Cola 500ml $ 3000\", \n",
    "    title=\"Restaurante Jäguermaister\")\n",
    "\n",
    "pedido_parcial = [] # Lista que guarda los códigos de cada menú\n",
    "\n",
    "# Pregunto cliente lo que quiere:\n",
    "quiere_pedir = input('Biendenido al Restaurante Jäguermaister, usted desea pedir')\n",
    "while quiere_pedir.lower() in ['s','si','y','ye','yes']:\n",
    "    plato_principal = input('Por favor indique un plato principal')\n",
    "    if 'piz' in plato_principal.lower():\n",
    "        pedido_parcial.append(menu[0].get('codigo'))\n",
    "    elif 'mil' in plato_principal.lower():\n",
    "        pedido_parcial.append(menu[1].get('codigo'))\n",
    "    elif 'ens' in plato_principal.lower():\n",
    "        pedido_parcial.append(menu[2].get('codigo'))\n",
    "    elif 'emp' in plato_principal.lower():\n",
    "        pedido_parcial.append(menu[3].get('codigo'))\n",
    "\n",
    "    bebida = input('Por favor indique una bebida')\n",
    "    if 'agu' in bebida.lower():\n",
    "        pedido_parcial.append(menu[5].get('codigo'))\n",
    "    elif 'coc' in bebida.lower():\n",
    "        pedido_parcial.append(menu[6].get('codigo'))\n",
    "\n",
    "    postre = input('Por favor indique un postre')\n",
    "    if 'fla' in postre.lower():\n",
    "        pedido_parcial.append(menu[4].get('codigo'))\n",
    "        \n",
    "    quiere_pedir = input('¿Quiere pedir algo mas?')\n",
    "\n",
    "# Creo y guardo las instancias (lo intente hacer un metodo pero no me sale)\n",
    "pedidos = []\n",
    "for codigo in pedido_parcial:\n",
    "    pedidos.append(Pedido(codigo)) # corregir\n",
    "\n",
    "# Muestro detalles del pedido y Calculo el total\n",
    "total = 0\n",
    "for p in pedidos:\n",
    "    print(f'{menu[p.codigo]['descripcion']} - ${p.precio}')\n",
    "    total += p.calcular_precio()\n",
    "print(f\"\\nTotal a pagar: ${total}\") ## hacer metodo"
   ]
  },
  {
   "cell_type": "markdown",
   "id": "e222d9d3",
   "metadata": {},
   "source": [
    "2) Realizar un programa que ayude al pintor a realizar el presupuesto. El programa debe calcular la superficie total a pintar y la cantidad de litros de pintura, de una cantidad indeterminada de habitaciones. Cada pared puede tener una abertura (puertas, ventanas, etc.), o no tener ninguna abertura. Las aberturas no se pintan, restar su superficie de las paredes a pintar.\n",
    "¿Qué estructura de datos necesita para almacenar la información?\n",
    "Realizar el programa usando objetos para almacenar la información de las habitaciones. Está prohibido el uso de las instrucciones print() e input() dentro de las clases (capricho del profesor)."
   ]
  },
  {
   "cell_type": "code",
   "execution_count": null,
   "id": "42a0826c",
   "metadata": {},
   "outputs": [
    {
     "name": "stdout",
     "output_type": "stream",
     "text": [
      "La superficie total de la habitación es 45.15, para el cual usted va a necesitar un total de 9.933 litros\n"
     ]
    }
   ],
   "source": [
    "class Habitaciones:\n",
    "    def __init__(self, superficie: int) -> None:\n",
    "        self.superficie = superficie\n",
    "        \n",
    "    def sup_pared(self, alto: float, largo: float):\n",
    "        superficie_pared = alto * largo\n",
    "        return superficie_pared\n",
    "        \n",
    "    def sup_abertura(self, alto: float, largo: float):\n",
    "        superficie_abertura = alto * largo\n",
    "        return superficie_abertura\n",
    "    \n",
    "    def cantidad_pintura(self, superficie: float, rendimiento: int, manos: int):\n",
    "        total_pintura = (superficie/rendimiento) * 1.10 * manos\n",
    "        return total_pintura\n",
    "    \n",
    "##################################################################################\n",
    "#\n",
    "habitacion = Habitaciones(0)\n",
    "\n",
    "#\n",
    "agregar_pared = input('¿Quiere agregar pared?')\n",
    "\n",
    "while agregar_pared.lower() in ['s','si','y','ye','yes']:\n",
    "    \n",
    "    alto = float(input('Indique el alto de la pared'))\n",
    "    largo = float(input('Indique el largo de la pared'))\n",
    "    habitacion.superficie += habitacion.sup_pared(alto,largo) # mandar en metodo\n",
    "\n",
    "    agregar_pared = input('¿Quiere agregar otra pared?')\n",
    "\n",
    "#\n",
    "agregar_abertura = input('¿Quiere agregar una abertura?')\n",
    "\n",
    "while agregar_abertura.lower() in ['s','si','y','ye','yes']:\n",
    "    \n",
    "    alto = float(input('Indique el alto de la abertura'))\n",
    "    largo = float(input('Indique el largo de la abertura'))\n",
    "    habitacion.superficie -= habitacion.sup_abertura(alto,largo)\n",
    "    \n",
    "    agregar_abertura = input('¿Quiere agregar abertura?')\n",
    "\n",
    "\n",
    "#\n",
    "rendimiento = int(input('¿Cuál es el rendimiento de su pintura?'))\n",
    "manos = int(input('¿Cuántas manos de pintura le va a dar?'))\n",
    "\n",
    "total_pintura = habitacion.cantidad_pintura(habitacion.superficie, rendimiento, manos)\n",
    "\n",
    "print(f'La superficie total de la habitación es {habitacion.superficie}, para el cual usted va a necesitar un total de {total_pintura} litros')"
   ]
  },
  {
   "cell_type": "markdown",
   "id": "15821b9f",
   "metadata": {},
   "source": [
    "3) Realizar el programa usando objetos. Está prohibido el uso de las instrucciones print() e input() dentro de las clases (capricho del profesor).\n",
    "El programa debe permitir:\n",
    "- A) Cargar países, almacenando el nombre, el nombre de su capital y su población.\n",
    "- B) Cargar los países limítrofes a un país ya cargado. Los países limítrofes deben ser objetos ya creados en el punto A. Cuando al país A, se le carga el país limítrofe B, automáticamente se cargue en el país B, el país limítrofe A. Es decir, si a Argentina le cargamos el país limítrofe Uruguay, automáticamente se debe cargar a Uruguay el país limítrofe Argentina.\n",
    "- D) El usuario selecciona un país, y el programa muestra todos sus países limítrofes.\n",
    "¿Qué estructura de datos necesita para almacenar la información? ¿Cuántas clases son necesarias? ¿Cómo codificar la información?"
   ]
  },
  {
   "cell_type": "code",
   "execution_count": null,
   "id": "841189f8",
   "metadata": {},
   "outputs": [],
   "source": [
    "# Tomo una lista de de paises de una API pública para guardar lo obtenido como instancias del objeto país  \n",
    "\n",
    "import requests\n",
    "\n",
    "class Pais: # creo el objeto pais con los atributos iniciales para rellenarlos con la lista\n",
    "    def __init__(self, nombre: str, capital: str, poblacion: int) -> None:\n",
    "        self.nombre = nombre\n",
    "        self.capital = capital\n",
    "        self.poblacion = poblacion\n",
    "\n",
    "    def obtener_paises_por_region(region: str): # luego de instalar request e importarlo accedo a la API \n",
    "        url = f\"https://restcountries.com/v3.1/region/{region}\" # establezco la URL y con la informacion de pais por continente\n",
    "        respuesta = requests.get(url) # Guardo la repuesta del requests\n",
    "\n",
    "        if respuesta.status_code != 200: # Cuando el requests devuelve un código diferente a 200 es por que no se puede procesar el pedido\n",
    "            error = True\n",
    "            return error # Mas adelante voy a tomar este return para confirmar que esté todo bien\n",
    "        \n",
    "        datos = respuesta.json() # Convierto el (JavaScript Object Notation) que devuelve el requests en un diccionario del que extraeré los datos \n",
    "        lista_paises = [] # Creo una lista para guardar los objetos\n",
    "        \n",
    "        for p in datos: # Creo \n",
    "            nombre = p.get(\"name\", {}).get(\"common\", \"Desconocido\")\n",
    "            capital = p.get(\"capital\", [\"Desconocida\"])[0]\n",
    "            poblacion = p.get(\"population\", 0)\n",
    "            pais = Pais(nombre, capital, poblacion)\n",
    "            lista_paises.append(pais)\n",
    "\n",
    "        return lista_paises"
   ]
  }
 ],
 "metadata": {
  "kernelspec": {
   "display_name": "Python 3",
   "language": "python",
   "name": "python3"
  },
  "language_info": {
   "codemirror_mode": {
    "name": "ipython",
    "version": 3
   },
   "file_extension": ".py",
   "mimetype": "text/x-python",
   "name": "python",
   "nbconvert_exporter": "python",
   "pygments_lexer": "ipython3",
   "version": "3.13.1"
  }
 },
 "nbformat": 4,
 "nbformat_minor": 5
}
