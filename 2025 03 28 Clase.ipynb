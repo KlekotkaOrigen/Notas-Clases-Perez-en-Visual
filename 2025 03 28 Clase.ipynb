{
 "cells": [
  {
   "cell_type": "code",
   "execution_count": null,
   "metadata": {},
   "outputs": [],
   "source": [
    "class Persona:\n",
    "\n",
    "    def __init__(self, nombre: str, edad: int, mail: str='NO INFORMADA') -> None: # se define el constructor de la clase\n",
    "        print(\"Se crea a:\", nombre)\n",
    "        self.nombre = nombre\n",
    "        self.edad = edad\n",
    "        self.mail = mail\n",
    "        self.padre = None\n",
    "        self.hijos_list = [] # se genera una lista vacia para los hijos\n",
    "        self.hijos_set = set() # se genera un set vacio para los hijos. Es redundante pero se deja para mostrar la diferencia entre ambos tipos de datos\n",
    "\n",
    "    def __del__(self) -> None: # se define el destructor de la clase\n",
    "        print(f'{self.nombre} ya no existe')\n",
    "\n",
    "    def agregar_padre(self, padre) -> None: # se define el metodo para agregar un padre a la persona\n",
    "        if isinstance(padre, Persona):\n",
    "            self.padre = padre\n",
    "        else:\n",
    "            print('Solo una Persona puede ser padre')\n",
    "\n",
    "    def agregar_hijo_list(self, hijo) -> None: # se define el metodo para agregar un hijo a la persona\n",
    "        if isinstance(hijo, Persona):\n",
    "            self.hijos_list.append(hijo)\n",
    "            hijo.agregar_padre(self)\n",
    "        else:\n",
    "            print('Solo una Persona puede ser hijo')\n",
    "        \n",
    "    def agregar_hijo_set(self, hijo) -> None: # se define el metodo para agregar un hijo a la persona\n",
    "        # en este caso se usa un set para evitar duplicados\n",
    "        if isinstance(hijo, Persona):\n",
    "            self.hijos_set.add(hijo)\n",
    "            hijo.agregar_padre(self)\n",
    "        else:\n",
    "            print('Solo una Persona puede ser hijo')\n",
    "        \n",
    "    def imprimir(self) -> None: # se define el metodo para imprimir la persona\n",
    "        print(f'Nombre:{self.nombre} Edad:{self.edad} - mail:{self.mail}\\n  Padre:{self.padre}')\n",
    "\n",
    "    def texto(self) -> str: # se define el metodo para devolver un string con la informacion de la persona\n",
    "        if self.padre:\n",
    "            txt = f'Nombre:{self.nombre} Edad:{self.edad} - mail:{self.mail} Padre:{self.padre.nombre}\\n'\n",
    "        else:\n",
    "            txt = f'Nombre:{self.nombre} Edad:{self.edad} - mail:{self.mail}\\n'\n",
    "        if len(self.hijos_list)>0:\n",
    "            txt += 'Mis hijos son:\\n'\n",
    "            for hijo in self.hijos_list:\n",
    "                txt += f'\\t{hijo.texto()}'\n",
    "        return txt\n",
    "\n",
    "    def modificar_edad(self, edad: int) -> None: # se define el metodo para modificar la edad de la persona\n",
    "        self.edad = edad\n",
    "\n",
    "    def get_edad(self) -> int:\n",
    "        return self.edad\n",
    "\n",
    "    def es_mayor(self) -> bool:\n",
    "        return self.edad >= 18\n",
    "\n",
    "# PROGRAMA\n",
    "pepe = Persona('Pepe', 25)\n",
    "ana = Persona('Ana', 28, 'ana@mail.com')\n",
    "juan = Persona('Juan', 32, 'juan@mail.com')\n",
    "pepe.agregar_hijo_list(ana)\n",
    "ana.agregar_hijo_list(juan)\n",
    "\n",
    "print('-'*50)\n",
    "pepe.imprimir()\n",
    "print('-'*50)\n",
    "print(ana.texto())\n",
    "print('-'*50)\n",
    "print(pepe.texto())\n",
    "\n"
   ]
  },
  {
   "cell_type": "code",
   "execution_count": null,
   "metadata": {},
   "outputs": [],
   "source": [
    "# cargar programa que subio perez para que ande\n",
    "\n",
    "# estariamos generando una seudo relacion entre los  objetos\n",
    "# en este caso entre los hermanos - pero eso estaria solo en el programa\n",
    "\n",
    "pepe = Persona('Pepe', 25)\n",
    "ana = Persona('Ana', 32, 'ana@gmail.com')\n",
    "juan = Persona('Juan', 25, 'juan@gmail.com')\n",
    "\n",
    "hermanos = [pepe, ana, juan]"
   ]
  },
  {
   "cell_type": "code",
   "execution_count": null,
   "metadata": {},
   "outputs": [],
   "source": [
    "# Para relacionar un objeto con otro en python, se puede poner uno dentro de otro\n",
    "# o simplemente tener una lista de objetos dentro de otro objeto\n",
    "# en este caso, la clase padre tiene una lista de hijos\n",
    "\n",
    "def agregar_padre(self, padre);\n",
    "    self.padre = padre\n"
   ]
  },
  {
   "cell_type": "markdown",
   "metadata": {},
   "source": [
    "Garbage collector:\n",
    "\n",
    "Al crear una variable python guarda un espacio de memoria para esa variable. Al usar el delete se elimina la refencia a ese espacio de memoria. Esos espacios no se borran automaticamente, por eso garbage collector elimina las memorias que no tienen dichas referencias.\n",
    "\n",
    "No se reportaron problemas con el mismo.\n",
    "\n",
    "Se suele ejecutar automáticamente. Pero conviene ejecuatarla antes o después de funciones largas. O también se puede deshabilitar para evitar que interrumpa procesos.\n",
    "\n",
    "Hay que importarlo\n",
    "\n",
    "import gc\n",
    "gc.collect()"
   ]
  },
  {
   "cell_type": "markdown",
   "metadata": {},
   "source": [
    "Para generar las relacion padre-hijo queriendo agregar una lista de hijos quizas convenga usar un set ya que no admite duplicados.\n",
    "\n",
    "Quizas con SET se complique realizar un bucle. Ademas no se puede acceder por indices."
   ]
  }
 ],
 "metadata": {
  "kernelspec": {
   "display_name": "Python 3",
   "language": "python",
   "name": "python3"
  },
  "language_info": {
   "codemirror_mode": {
    "name": "ipython",
    "version": 3
   },
   "file_extension": ".py",
   "mimetype": "text/x-python",
   "name": "python",
   "nbconvert_exporter": "python",
   "pygments_lexer": "ipython3",
   "version": "3.13.1"
  }
 },
 "nbformat": 4,
 "nbformat_minor": 2
}
