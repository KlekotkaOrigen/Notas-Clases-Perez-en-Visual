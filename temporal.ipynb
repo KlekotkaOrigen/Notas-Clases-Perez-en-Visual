{
 "cells": [
  {
   "cell_type": "code",
   "execution_count": null,
   "metadata": {},
   "outputs": [],
   "source": [
    "import random\n",
    "\n",
    "class Dado:\n",
    "    def __init__(self, caras: int) -> None:  # Constructor for the dice object (customizable dice)\n",
    "        self.caras = caras\n",
    "        self.dado = [x for x in range(1, caras + 1)]  # Generate a list from 1 to n (caras)\n",
    "    \n",
    "    def tirar(self) -> int:  # Roll the dice and return a random face value\n",
    "        return random.choice(self.dado)\n",
    "    \n",
    "class Cubilete:\n",
    "    def __init__(self, cant_dados: int, dado: Dado) -> None:\n",
    "        self.cant_dados = cant_dados\n",
    "        self.dados = [dado for _ in range(cant_dados)]  # Create a list of identical dice\n",
    "    \n",
    "    def tirar(self) -> list[int]:  # Roll all dice and return their results\n",
    "        return [dado.tirar() for dado in self.dados]\n",
    "    \n",
    "##################################################################################################################\n",
    "\n",
    "# Function to modify a dice\n",
    "def modificar_dado() -> Dado:\n",
    "    caras = int(input('Ingrese cantidad de Caras: '))  # Ask the user for the number of faces\n",
    "    dado = Dado(caras)  # Create a new dice with the specified number of faces\n",
    "    for x in range(caras):\n",
    "        valor_cara = int(input(f'Ingrese el valor de la cara {x + 1}: '))  # Customize each face of the dice\n",
    "        dado.dado[x] = valor_cara\n",
    "    return dado\n",
    "\n",
    "# Main program\n",
    "def main() -> None:\n",
    "    miDado = Dado(6)  # Default dice with 6 faces\n",
    "\n",
    "    # Ask if the user wants to modify the dice\n",
    "    nuevo = input('¿Quiere cambiar el dado? (s/si/yes para confirmar): ')\n",
    "    if nuevo.lower() in ['s', 'si', 'y', 'ye', 'yes']:\n",
    "        miDado = modificar_dado()\n",
    "\n",
    "    # Ask for the number of dice\n",
    "    cant_dados = int(input('Ingrese la cantidad de dados: '))\n",
    "\n",
    "    # Create a Cubilete with the specified number of dice\n",
    "    cubilete = Cubilete(cant_dados, miDado)\n",
    "\n",
    "    # Roll all dice\n",
    "    resultados = cubilete.tirar()\n",
    "\n",
    "    # Calculate the total sum of the rolls\n",
    "    suma = sum(resultados)\n",
    "\n",
    "    # Display the results of each roll\n",
    "    for i, resultado in enumerate(resultados, start=1):\n",
    "        print(f'Su tirada número {i}, dio como resultado {resultado}')\n",
    "\n",
    "    # Display the total result\n",
    "    print(f\"Usted arrojó {cant_dados} dados. El resultado total fue {suma}\")\n",
    "\n",
    "if __name__ == \"__main__\":\n",
    "    main()"
   ]
  },
  {
   "cell_type": "code",
   "execution_count": null,
   "metadata": {},
   "outputs": [],
   "source": [
    "\n",
    "otro_dado = input('¿Quiere agregar otro tipo de dado?')\n",
    "if otro_dado.lower() in ['s','si','y','ye','yes']:\n",
    "    modificar_dado(miDado)\n"
   ]
  },
  {
   "cell_type": "code",
   "execution_count": null,
   "metadata": {},
   "outputs": [
    {
     "name": "stdout",
     "output_type": "stream",
     "text": [
      "Su dado es [5, 8, 6, 4, 5, 0, 1, 6, 7]\n",
      "La cantidad de este tipo de dados es 8\n",
      "Su dado es [1, 2, 0]\n",
      "La cantidad de este tipo de dados es 3\n",
      "Su dado es [1, 2, 3, 4, 8, 7]\n",
      "La cantidad de este tipo de dados es 3\n",
      "El resultado de tirar el cubilete completo es 54\n"
     ]
    }
   ],
   "source": []
  }
 ],
 "metadata": {
  "kernelspec": {
   "display_name": "Python 3",
   "language": "python",
   "name": "python3"
  },
  "language_info": {
   "codemirror_mode": {
    "name": "ipython",
    "version": 3
   },
   "file_extension": ".py",
   "mimetype": "text/x-python",
   "name": "python",
   "nbconvert_exporter": "python",
   "pygments_lexer": "ipython3",
   "version": "3.13.1"
  }
 },
 "nbformat": 4,
 "nbformat_minor": 2
}
