{
 "cells": [
  {
   "cell_type": "code",
   "execution_count": 1,
   "metadata": {},
   "outputs": [
    {
     "ename": "ModuleNotFoundError",
     "evalue": "No module named 'requests'",
     "output_type": "error",
     "traceback": [
      "\u001b[1;31m---------------------------------------------------------------------------\u001b[0m",
      "\u001b[1;31mModuleNotFoundError\u001b[0m                       Traceback (most recent call last)",
      "Cell \u001b[1;32mIn[1], line 1\u001b[0m\n\u001b[1;32m----> 1\u001b[0m \u001b[38;5;28;01mimport\u001b[39;00m \u001b[38;5;21;01mrequests\u001b[39;00m\n\u001b[0;32m      3\u001b[0m \u001b[38;5;28;01mdef\u001b[39;00m \u001b[38;5;21mbuscar_pais\u001b[39m(nombre):\n\u001b[0;32m      4\u001b[0m     url \u001b[38;5;241m=\u001b[39m \u001b[38;5;124mf\u001b[39m\u001b[38;5;124m\"\u001b[39m\u001b[38;5;124mhttps://restcountries.com/v3.1/name/\u001b[39m\u001b[38;5;132;01m{\u001b[39;00mnombre\u001b[38;5;132;01m}\u001b[39;00m\u001b[38;5;124m\"\u001b[39m\n",
      "\u001b[1;31mModuleNotFoundError\u001b[0m: No module named 'requests'"
     ]
    }
   ],
   "source": [
    "import requests\n",
    "\n",
    "def buscar_pais(nombre):\n",
    "    url = f\"https://restcountries.com/v3.1/name/{nombre}\"\n",
    "    r = requests.get(url)\n",
    "    datos = r.json()\n",
    "\n",
    "    for pais in datos:\n",
    "        nombre = pais[\"name\"][\"common\"]\n",
    "        capital = pais.get(\"capital\", [\"Desconocida\"])[0]\n",
    "        poblacion = pais.get(\"population\", \"Desconocida\")\n",
    "        vecinos = pais.get(\"borders\", [])\n",
    "        print(f\"🌍 {nombre} - Capital: {capital} - Población: {poblacion} - Vecinos: {vecinos}\")\n",
    "\n",
    "buscar_pais(\"France\")\n"
   ]
  },
  {
   "cell_type": "code",
   "execution_count": 2,
   "metadata": {},
   "outputs": [
    {
     "name": "stdout",
     "output_type": "stream",
     "text": [
      "Argentina - Capital: Buenos Aires, Población: 45376763\n",
      "Brazil - Capital: Brasília, Población: 212559409\n"
     ]
    }
   ],
   "source": [
    "import requests\n",
    "\n",
    "def obtener_info_paises(paises):\n",
    "    for pais in paises:\n",
    "        response = requests.get(f\"https://restcountries.com/v3.1/name/{pais}\")\n",
    "        if response.status_code == 200:\n",
    "            datos = response.json()[0]\n",
    "            nombre = datos.get(\"name\", {}).get(\"common\", \"Desconocido\")\n",
    "            capital = datos.get(\"capital\", [\"No tiene\"])[0]\n",
    "            poblacion = datos.get(\"population\", \"Desconocida\")\n",
    "            print(f\"{nombre} - Capital: {capital}, Población: {poblacion}\")\n",
    "        else:\n",
    "            print(f\"No se pudo obtener información de {pais}\")\n",
    "\n",
    "# Ejemplo de uso\n",
    "obtener_info_paises([\"Argentina\", \"Brazil\"])\n",
    "\n"
   ]
  },
  {
   "cell_type": "code",
   "execution_count": 3,
   "metadata": {},
   "outputs": [
    {
     "name": "stdout",
     "output_type": "stream",
     "text": [
      "\n",
      "🌍 Argentina\n",
      "   🏛️ Capital: Buenos Aires\n",
      "   👥 Población: 45376763\n",
      "   🧭 Países limítrofes: Bolivia, Brazil, Chile, Paraguay, Uruguay\n",
      "\n",
      "🌍 Brazil\n",
      "   🏛️ Capital: Brasília\n",
      "   👥 Población: 212559409\n",
      "   🧭 Países limítrofes: Argentina, Bolivia, Colombia, French Guiana, Guyana, Paraguay, Peru, Suriname, Uruguay, Venezuela\n"
     ]
    }
   ],
   "source": [
    "import requests\n",
    "\n",
    "def obtener_info_paises(paises):\n",
    "    # Cargamos todos los países para poder traducir los códigos de frontera\n",
    "    response_todos = requests.get(\"https://restcountries.com/v3.1/all\")\n",
    "    if response_todos.status_code != 200:\n",
    "        print(\"Error al obtener la lista completa de países.\")\n",
    "        return\n",
    "\n",
    "    lista_todos = response_todos.json()\n",
    "    codigo_a_nombre = {p.get(\"cca3\", \"\"): p.get(\"name\", {}).get(\"common\", \"\") for p in lista_todos}\n",
    "\n",
    "    for pais in paises:\n",
    "        response = requests.get(f\"https://restcountries.com/v3.1/name/{pais}\")\n",
    "        if response.status_code == 200:\n",
    "            datos = response.json()[0]\n",
    "            nombre = datos.get(\"name\", {}).get(\"common\", \"Desconocido\")\n",
    "            capital = datos.get(\"capital\", [\"No tiene\"])[0]\n",
    "            poblacion = datos.get(\"population\", \"Desconocida\")\n",
    "            borders = datos.get(\"borders\", [])\n",
    "\n",
    "            # Convertimos códigos a nombres de países\n",
    "            limitrofes = [codigo_a_nombre.get(codigo, codigo) for codigo in borders]\n",
    "\n",
    "            print(f\"\\n🌍 {nombre}\")\n",
    "            print(f\"   🏛️ Capital: {capital}\")\n",
    "            print(f\"   👥 Población: {poblacion}\")\n",
    "            print(f\"   🧭 Países limítrofes: {', '.join(limitrofes) if limitrofes else 'Ninguno'}\")\n",
    "        else:\n",
    "            print(f\"❌ No se pudo obtener información de {pais}\")\n",
    "\n",
    "# Ejemplo de uso\n",
    "obtener_info_paises([\"Argentina\", \"Brazil\"])\n"
   ]
  },
  {
   "cell_type": "code",
   "execution_count": null,
   "metadata": {},
   "outputs": [],
   "source": [
    "import requests\n",
    "\n",
    "class Pais:\n",
    "    def __init__(self, nombre: str, capital: str, poblacion: int) -> None:\n",
    "        self.nombre = nombre\n",
    "        self.capital = capital\n",
    "        self.poblacion = poblacion\n",
    "\n",
    "    def obtener_paises_por_region(region: str):\n",
    "        url = f\"https://restcountries.com/v3.1/region/{region}\"\n",
    "        respuesta = requests.get(url)\n",
    "\n",
    "        if respuesta.status_code != 200:\n",
    "            print(\"No se pudo obtener la información.\")\n",
    "            return []\n",
    "\n",
    "        datos = respuesta.json()\n",
    "        lista_paises = []\n",
    "        \n",
    "        for p in datos:\n",
    "            nombre = p.get(\"name\", {}).get(\"common\", \"Desconocido\")\n",
    "            capital = p.get(\"capital\", [\"Desconocida\"])[0]\n",
    "            poblacion = p.get(\"population\", 0)\n",
    "            pais = Pais(nombre, capital, poblacion)\n",
    "            lista_paises.append(pais)\n",
    "\n",
    "        return lista_paises\n",
    "\n",
    "def mostrar_info(self):\n",
    "    print(f\"País: {self.nombre}\")\n",
    "    print(f\"Capital: {self.capital}\")\n",
    "    print(f\"Población: {self.poblacion}\")\n",
    "\n",
    "# Uso del código\n",
    "paises_europa = obtener_paises_por_region(\"europe\")\n",
    "\n",
    "for pais in paises_europa[:5]:  # Mostramos solo los primeros 5 por ejemplo\n",
    "    pais.mostrar_info()\n",
    "    print(\"-----\")\n",
    "    \n"
   ]
  }
 ],
 "metadata": {
  "kernelspec": {
   "display_name": ".venv",
   "language": "python",
   "name": "python3"
  },
  "language_info": {
   "codemirror_mode": {
    "name": "ipython",
    "version": 3
   },
   "file_extension": ".py",
   "mimetype": "text/x-python",
   "name": "python",
   "nbconvert_exporter": "python",
   "pygments_lexer": "ipython3",
   "version": "3.13.1"
  }
 },
 "nbformat": 4,
 "nbformat_minor": 2
}
