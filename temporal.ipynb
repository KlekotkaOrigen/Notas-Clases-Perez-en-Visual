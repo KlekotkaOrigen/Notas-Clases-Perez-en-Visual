{
 "cells": [
  {
   "cell_type": "code",
   "execution_count": 10,
   "metadata": {},
   "outputs": [
    {
     "name": "stdout",
     "output_type": "stream",
     "text": [
      "No tengo hijos\n",
      "Solo se puede agregar una persona como hijo\n",
      "Mis hijos son\n",
      "Leo\n",
      "Lila\n"
     ]
    }
   ],
   "source": [
    "class Persona:\n",
    "    \"\"\"Clase generica para personas Guarda nombre, edad y los hijos\"\"\"\n",
    "    \n",
    "    def __init__(self, nombre: str, edad: int):\n",
    "        self.nombre = nombre\n",
    "        self.edad = edad\n",
    "        self.hijos = []\n",
    "    \n",
    "    def agregar_hijo(self,hijo):\n",
    "        if isinstance(hijo, Persona):\n",
    "            self.hijos.append(hijo)\n",
    "        else:\n",
    "            print(\"Solo se puede agregar una persona como hijo\")\n",
    "        \n",
    "    def listar_hijos(self):\n",
    "        if len(self.hijos) > 0:\n",
    "            print(\"Mis hijos son\")\n",
    "            for hijo in self.hijos:\n",
    "                print(hijo.nombre)\n",
    "        else:\n",
    "            print(\"No tengo hijos\")\n",
    "\n",
    "padre=Persona(\"Juan\",45)\n",
    "padre.listar_hijos()\n",
    "padre.agregar_hijo(Persona(\"Leo\",5))\n",
    "padre.agregar_hijo(Persona(\"Lila\",3))\n",
    "padre.agregar_hijo(\"Pedro\")\n",
    "padre.listar_hijos()"
   ]
  }
 ],
 "metadata": {
  "kernelspec": {
   "display_name": "Python 3",
   "language": "python",
   "name": "python3"
  },
  "language_info": {
   "codemirror_mode": {
    "name": "ipython",
    "version": 3
   },
   "file_extension": ".py",
   "mimetype": "text/x-python",
   "name": "python",
   "nbconvert_exporter": "python",
   "pygments_lexer": "ipython3",
   "version": "3.13.1"
  }
 },
 "nbformat": 4,
 "nbformat_minor": 2
}
