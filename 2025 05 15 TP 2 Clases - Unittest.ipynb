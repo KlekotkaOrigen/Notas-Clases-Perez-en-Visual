{
 "cells": [
  {
   "cell_type": "markdown",
   "id": "b0a87b44",
   "metadata": {},
   "source": [
    "## Trabajo Práctico – Clases y Objetos - Unittest"
   ]
  },
  {
   "cell_type": "markdown",
   "id": "c761366e",
   "metadata": {},
   "source": [
    "1) Implementar Linked List con objetos. Cada nodo de la Linked List debe almacenar un dato, este puede ser un int, un float, un string o del tipo que deseen. Se deben crear, como mínimo, los siguientes métodos los para trabajar con los datos. Pueden implementar métodos adicionales si lo necesitan o desean.\n",
    "\n",
    "    NOTA: No pueden utilizar una lista como estructura de datos, es decir no se pueden guardar todos los datos en una lista que se utiliza como una Linked List.\n",
    "\n",
    "- Agregar (dato) -> None: Agrega un nuevo dato a la Linked List. Se puede agregar al inicio, al final de la lista o, si se desea, agregarla de forma que la Linked List quede ordenada.\n",
    "- Buscar (dato) -> Bool: Busca un dato en la Linked List. Si el dato está, devuelve True, sino, False. Alternativamente la función puede devolver el nodo que contiene el dato buscado.\n",
    "- Borrar (dato) -> LinkedList: Elimina un nodo de la Linked List que contiene el dato suministrado.\n",
    "- Listar () -> list[dato]: Devuelve una lista con todos los datos de la Linked List."
   ]
  },
  {
   "cell_type": "code",
   "execution_count": null,
   "id": "fa6f621d",
   "metadata": {},
   "outputs": [
    {
     "name": "stdout",
     "output_type": "stream",
     "text": [
      "Listado: [1, 5, 9, 6, 0, 2, 8, 6]\n",
      "Buscar 5: (True, 1)\n",
      "Buscar 9: (True, 2)\n",
      "Borrados: 1\n",
      "Listado final: [1, 9, 6, 0, 2, 8, 6]\n"
     ]
    }
   ],
   "source": [
    "class Nodo: # Esta clase maneja los nodos, cada instancia es un nodo\n",
    "    \n",
    "    def __init__(self, dato) -> None:\n",
    "        self.dato = dato\n",
    "        self.siguiente = None\n",
    "\n",
    "class Linked_List: # En esta estarán los metodos para manejar la Linked_List\n",
    "    \n",
    "    def __init__(self) -> None: # Este es para el inicio de la Linked_list -> Sino deberia poner una variable de inicio en la ejecucion del programa\n",
    "        self.inicio = None # Se comporta como el inicio de la lista (head - cabeza)\n",
    "    \n",
    "    def agregar_nuevo(self, nuevo):  # Método para agregar al principio\n",
    "        nuevo_nodo = Nodo(nuevo)  # Creo un nodo con el dato\n",
    "        nuevo_nodo.siguiente = self.inicio  # Apunto el nuevo nodo al que era el primer nodo\n",
    "        self.inicio = nuevo_nodo  # Ahora el nuevo nodo es el primero de la lista\n",
    "\n",
    "    def buscar(self, incognita): # Buscamor, hay que pasarle el valor a buscar\n",
    "        nodo_analizado = self.inicio # Empezamos en analizando el último valor cargado\n",
    "        posicion_analisis = 0 # Establecemos un indicado de la posicion analizada\n",
    "        \n",
    "        while nodo_analizado is not None: # Recorremos los nodos hasta llegar al final (None - Cola - Tail)\n",
    "            if nodo_analizado.dato == incognita: \n",
    "                return True, posicion_analisis # Cuando coincida devuelvo un True junto con la posición\n",
    "            nodo_analizado = nodo_analizado.siguiente # Pasamos al siguiente\n",
    "            posicion_analisis += 1\n",
    "            \n",
    "        return False\n",
    "    \n",
    "    def listar(self) -> list: # Este método deberia poner en una lista de HEAD a TAIL los datos de los Nodos\n",
    "        lista_datos = [] # Lista vacia para hacer append de los datos\n",
    "        actual = self.inicio # Nos ubicamos en HEAD\n",
    "        \n",
    "        while actual is not None: # Recorremos los nodos hasta llegar al final (None - Cola - Tail)\n",
    "            lista_datos.append(actual.dato) # Cada dato lo ponemos en la lista\n",
    "            actual = actual.siguiente # Leemos el siguiente\n",
    "        return lista_datos \n",
    "\n",
    "    def borrar(self, eliminar) -> int:\n",
    "        nodo_analizado = self.inicio # Empezamos en analizando el último valor cargado\n",
    "        auxiliar = None # Es para ir reemplazando los valores ( ya que no se borra con DEL)\n",
    "        cantidad_eliminados = 0 # Cuento la cantidad de borrados\n",
    "        \n",
    "        while nodo_analizado is not None: # Recorremos los nodos hasta llegar al final (None - Cola - Tail)\n",
    "            if nodo_analizado.dato == eliminar: # Cuando encuentro al que quiero eliminar\n",
    "                if auxiliar is None: # Si estoy al principio de la lista\n",
    "                    self.inicio = nodo_analizado.siguiente # guardo el siguiente en la clase\n",
    "                    nodo_analizado = self.inicio # reemplazo el que estoy viendo por el siguiente\n",
    "                else: # Si lo encuentro en un nodo que no es el primero\n",
    "                    auxiliar.siguiente = nodo_analizado.siguiente\n",
    "                    nodo_analizado = nodo_analizado.siguiente\n",
    "                cantidad_eliminados += 1 # Sumo uno a la cantidad de eliminados\n",
    "            else: # Si no encuentro nada que eliminar continúo recorriendo\n",
    "                auxiliar = nodo_analizado\n",
    "                nodo_analizado = nodo_analizado.siguiente\n",
    "            \n",
    "        return cantidad_eliminados\n",
    "\n",
    "\n",
    "#########################################################\n",
    "\n",
    "# nuevo = int(input('Ingrese el nuevo dato'))\n",
    "# Inicio programa\n",
    "lista = Linked_List()\n",
    "\n",
    "# Agregar valores\n",
    "cantidad = 0\n",
    "\n",
    "try:\n",
    "    cantidad = int(input('¿Cuántos valores quiere agregar solo números?'))\n",
    "except ValueError:\n",
    "    print('Usted ingresó algo diferente a un numero entero, inicie nuevamente el programa')\n",
    "\n",
    "while cantidad != 0:\n",
    "    try:\n",
    "        lista.agregar_nuevo(int(input('Agregue un numero entero a la lista [si se equivoca colocaremos un cero o reinicie el programa]')))\n",
    "    except ValueError:\n",
    "        lista.agregar_nuevo(0)\n",
    "    cantidad -= 1\n",
    "\n",
    "# Listar\n",
    "print(\"Listado:\", lista.listar())\n",
    "\n",
    "# Buscar\n",
    "print(\"Buscar 5:\", lista.buscar(5))\n",
    "print(\"Buscar 9:\", lista.buscar(9))\n",
    "\n",
    "# Borrar\n",
    "print(\"Borrados:\", lista.borrar(5))\n",
    "print(\"Listado final:\", lista.listar())"
   ]
  },
  {
   "cell_type": "markdown",
   "id": "55b68bea",
   "metadata": {},
   "source": [
    "2) Implementar Binary Tree con objetos. Cada nodo del Binary Tree debe almacenar un dato, este puede ser un int, un float, un string o de cualquier tipo que implemente los métodos < y > (mayor y menor). Se deben crear, como mínimo, los siguientes métodos los para trabajar con los datos. Pueden implementar métodos adicionales si lo necesitan o desean.\n",
    "\n",
    "- Agregar (dato) -> None: Agrega un nuevo dato al Binary Tree. Se debe agregar de forma que el Binary Tree quede ordenado.\n",
    "- Buscar (dato) -> Bool: Busca un dato en la Binary Tree. Si el dato está, devuelve True, sino, False.\n",
    "- Alternativamente la función puede devolver el nodo que contiene el dato buscado. Borrar (dato) -> BinaryTree: Elimina un nodo de la Binary Tree que contiene el dato suministrado.\n",
    "- Listar () -> list[dato]: Devuelve una lista con todos los datos de la Binary Tree ordenados."
   ]
  },
  {
   "cell_type": "code",
   "execution_count": null,
   "id": "f081bf5e",
   "metadata": {},
   "outputs": [],
   "source": []
  },
  {
   "cell_type": "markdown",
   "id": "e5eb1a5a",
   "metadata": {},
   "source": [
    "3) Realizar un archivo de testeo (unttest) para las estructuras de datos anteriores (un archivo de testeo para cada estructura). El test debe verificar el correcto funcionamiento de los métodos requeridos en cada estructura de datos."
   ]
  },
  {
   "cell_type": "code",
   "execution_count": null,
   "id": "e2f1a8d3",
   "metadata": {},
   "outputs": [],
   "source": []
  }
 ],
 "metadata": {
  "kernelspec": {
   "display_name": ".venv",
   "language": "python",
   "name": "python3"
  },
  "language_info": {
   "codemirror_mode": {
    "name": "ipython",
    "version": 3
   },
   "file_extension": ".py",
   "mimetype": "text/x-python",
   "name": "python",
   "nbconvert_exporter": "python",
   "pygments_lexer": "ipython3",
   "version": "3.13.1"
  }
 },
 "nbformat": 4,
 "nbformat_minor": 5
}
