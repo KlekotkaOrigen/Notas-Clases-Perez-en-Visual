{
 "cells": [
  {
   "cell_type": "code",
   "execution_count": null,
   "metadata": {},
   "outputs": [
    {
     "name": "stdout",
     "output_type": "stream",
     "text": [
      "Juan: -Hola, Paco, ¿Qué tal?\n",
      "Paco: -Hola, Juan, un gusto verte\n",
      "Juan: -Bla bla bla \n",
      "Paco: -Bla bla bla \n",
      "Juan: -Bla bla bla bla \n",
      "Paco: -Bla bla bla bla \n",
      "\n"
     ]
    }
   ],
   "source": [
    "class Persona: # inicia la definición de una clase de objetos. Todo el contenido de la clase va indentado (4 espacios) con respecto a esta línea.\n",
    "    def __init__(self, nombre :str) -> None:\n",
    "        self.nombre = nombre\n",
    "    \n",
    "    def saludar(self, otro) -> str: # métodos de una clase se definen igual que las funciones\n",
    "        return f\"{self.nombre}: -Hola, {otro.nombre}, ¿Qué tal?\\n\"\n",
    "    \n",
    "    def devolver_saludo(self, otro) -> str:\n",
    "        return f\"{self.nombre}: -Hola, {otro.nombre}, un gusto verte\\n\"\n",
    "\n",
    "class Conversacion: # crea un objeto de la clase Conversacion entre juan y paco (vean que juan y paco son dos objetos).\n",
    "    def __init__(self, p1 :Persona, p2 :Persona):\n",
    "        self.p1 = p1\n",
    "        self.p2 = p2\n",
    "\n",
    "    def conversar(self) -> str:\n",
    "        conversacion = \"\"\n",
    "        conversacion += self.p1.saludar(self.p2)\n",
    "        conversacion += self.p2.devolver_saludo(self.p1)\n",
    "        conversacion += f\"{self.p1.nombre}: -Bla bla bla \\n\"\n",
    "        conversacion += f\"{self.p2.nombre}: -Bla bla bla \\n\"\n",
    "        conversacion += f\"{self.p1.nombre}: -Bla bla bla bla \\n\"\n",
    "        conversacion += f\"{self.p2.nombre}: -Bla bla bla bla \\n\"\n",
    "        return conversacion\n",
    "\n",
    "def main() -> None:\n",
    "    juan = Persona(\"Juan\") #  crea un objeto de la clase Persona y lo guarda en la variable “juan”, para todos los fines prácticos decimos que juan es un objeto de la clase Persona\n",
    "    paco = Persona(\"Paco\")\n",
    "    \n",
    "    conversacion = Conversacion(juan, paco)\n",
    "    print(conversacion.conversar())\n",
    "\n",
    "if __name__ == \"__main__\":\n",
    "    main()"
   ]
  },
  {
   "cell_type": "markdown",
   "metadata": {},
   "source": [
    "Métodos\n",
    "Un método es una función definida dentro de una clase. Los métodos se define exactamente igual que cualquier otra función en Python, pero con un detalle, el primer parámetro de la función es la variable “self” que hace referencia al objeto que se está usando, es decir al objeto donde se ejecuta el método."
   ]
  },
  {
   "cell_type": "markdown",
   "metadata": {},
   "source": [
    "El Constructor y El Destructor\n",
    "Hay 2 métodos especiales, el constructor y el destructor. El Constructor se ejecuta automáticamente cuando se crea una instancia de un objeto. El Destructor es un método que se ejecuta automáticamente cuando se elimina o destruye un objeto. Veamos un ejemplo."
   ]
  },
  {
   "cell_type": "code",
   "execution_count": null,
   "metadata": {},
   "outputs": [],
   "source": [
    "class Persona:\n",
    "    def __init__(self, nombre :str) -> None:\n",
    "        self.nombre = nombre"
   ]
  },
  {
   "cell_type": "markdown",
   "metadata": {},
   "source": [
    "El constructor se identifica con __init__, en este caso el constructor recibe un parámetro, el nombre de la persona que se está creando.\n",
    "En la línea self.nombre = nombre se almacena el nombre dado en el atributo nombre del objeto.\n",
    "El punto en self.nombre separa al objeto del atributo que se está modificando, en este caso se está creando el atributo nombre en el objeto que se está creando."
   ]
  },
  {
   "cell_type": "markdown",
   "metadata": {},
   "source": [
    "El destructor se identifica con __del__, se ejecuta automáticamente cuando se destruye la última referencia a un objeto, es decir cuando ya no podemos acceder al mismo. El destructor no tiene ningún parámetro adicional al self."
   ]
  }
 ],
 "metadata": {
  "kernelspec": {
   "display_name": "Python 3",
   "language": "python",
   "name": "python3"
  },
  "language_info": {
   "codemirror_mode": {
    "name": "ipython",
    "version": 3
   },
   "file_extension": ".py",
   "mimetype": "text/x-python",
   "name": "python",
   "nbconvert_exporter": "python",
   "pygments_lexer": "ipython3",
   "version": "3.13.1"
  }
 },
 "nbformat": 4,
 "nbformat_minor": 2
}
