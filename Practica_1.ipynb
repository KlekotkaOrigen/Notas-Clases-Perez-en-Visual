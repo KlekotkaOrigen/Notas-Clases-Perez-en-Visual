{
 "cells": [
  {
   "cell_type": "code",
   "execution_count": 16,
   "metadata": {},
   "outputs": [
    {
     "name": "stdout",
     "output_type": "stream",
     "text": [
      "Juan: -Hola, Paco, ¿Qué tal?\n",
      "Paco: -Hola, Juan, un gusto verte\n",
      "Juan: -Bla bla bla \n",
      "Paco: -Bla bla bla \n",
      "Juan: -Bla bla bla bla \n",
      "Paco: -Bla bla bla bla \n",
      "\n"
     ]
    }
   ],
   "source": [
    "class Persona: # inicia la definición de una clase de objetos. Todo el contenido de la clase va indentado (4 espacios) con respecto a esta línea.\n",
    "    def __init__(self, nombre :str) -> None:\n",
    "        self.nombre = nombre\n",
    "    \n",
    "    def saludar(self, otro) -> str: # métodos de una clase se definen igual que las funciones\n",
    "        return f\"{self.nombre}: -Hola, {otro.nombre}, ¿Qué tal?\\n\"\n",
    "    \n",
    "    def devolver_saludo(self, otro) -> str:\n",
    "        return f\"{self.nombre}: -Hola, {otro.nombre}, un gusto verte\\n\"\n",
    "\n",
    "class Conversacion: # crea un objeto de la clase Conversacion entre juan y paco (vean que juan y paco son dos objetos).\n",
    "    def __init__(self, p1 :Persona, p2 :Persona):\n",
    "        self.p1 = p1\n",
    "        self.p2 = p2\n",
    "\n",
    "    def conversar(self) -> str:\n",
    "        conversacion = \"\"\n",
    "        conversacion += self.p1.saludar(self.p2)\n",
    "        conversacion += self.p2.devolver_saludo(self.p1)\n",
    "        conversacion += f\"{self.p1.nombre}: -Bla bla bla \\n\"\n",
    "        conversacion += f\"{self.p2.nombre}: -Bla bla bla \\n\"\n",
    "        conversacion += f\"{self.p1.nombre}: -Bla bla bla bla \\n\"\n",
    "        conversacion += f\"{self.p2.nombre}: -Bla bla bla bla \\n\"\n",
    "        return conversacion\n",
    "\n",
    "def main() -> None:\n",
    "    juan = Persona(\"Juan\") #  crea un objeto de la clase Persona y lo guarda en la variable “juan”, para todos los fines prácticos decimos que juan es un objeto de la clase Persona\n",
    "    paco = Persona(\"Paco\")\n",
    "    \n",
    "    conversacion = Conversacion(juan, paco)\n",
    "    print(conversacion.conversar())\n",
    "\n",
    "if __name__ == \"__main__\":\n",
    "    main()"
   ]
  },
  {
   "cell_type": "code",
   "execution_count": null,
   "metadata": {},
   "outputs": [],
   "source": [
    "# La línea:\n",
    "\n",
    "if __name__ == \"__main__\":\n",
    "    main()\n",
    "\n",
    "# es un punto de entrada en Python. Sirve para indicar que el código dentro de ese bloque solo se ejecutará si el script se ejecuta directamente, y no si se importa como un módulo en otro script.\n",
    "#¿Cómo funciona?\n",
    "# __name__ es una variable especial en Python que toma el valor \"__main__\" si el script se está ejecutando directamente.\n",
    "# Si el script es importado en otro archivo, __name__ tomará el valor del nombre del módulo en lugar de \"__main__\", y en ese caso el bloque no se ejecutará automáticamente.\n",
    "\n",
    "# Ejemplo:\n",
    "# Si ejecutamos el script directamente:\n",
    "script.py\n",
    "# Entonces __name__ será \"__main__\", y se ejecutará la función main().\n",
    "\n",
    "# Si importamos este archivo en otro script, como:\n",
    "import script\n",
    "# En este caso, __name__ tomará el valor \"script\", y main() no se ejecutará automáticamente.\n",
    "\n",
    "#¿Para qué sirve?\n",
    "# Evita que el código se ejecute al ser importado en otros archivos.\n",
    "# Permite reutilizar funciones y clases sin que se ejecuten automáticamente.\n",
    "\n",
    "# En resumen, es una buena práctica para estructurar programas en Python de manera modular y reutilizable."
   ]
  },
  {
   "cell_type": "markdown",
   "metadata": {},
   "source": [
    "Métodos\n",
    "Un método es una función definida dentro de una clase. Los métodos se define exactamente igual que cualquier otra función en Python, pero con un detalle, el primer parámetro de la función es la variable “self” que hace referencia al objeto que se está usando, es decir al objeto donde se ejecuta el método."
   ]
  },
  {
   "cell_type": "markdown",
   "metadata": {},
   "source": [
    "El Constructor y El Destructor\n",
    "Hay 2 métodos especiales, el constructor y el destructor. El Constructor se ejecuta automáticamente cuando se crea una instancia de un objeto. El Destructor es un método que se ejecuta automáticamente cuando se elimina o destruye un objeto. Veamos un ejemplo."
   ]
  },
  {
   "cell_type": "code",
   "execution_count": null,
   "metadata": {},
   "outputs": [],
   "source": [
    "class Persona:\n",
    "    def __init__(self, nombre :str) -> None:\n",
    "        self.nombre = nombre"
   ]
  },
  {
   "cell_type": "markdown",
   "metadata": {},
   "source": [
    "El constructor se identifica con __init__, en este caso el constructor recibe un parámetro, el nombre de la persona que se está creando.\n",
    "En la línea self.nombre = nombre se almacena el nombre dado en el atributo nombre del objeto.\n",
    "El punto en self.nombre separa al objeto del atributo que se está modificando, en este caso se está creando el atributo nombre en el objeto que se está creando."
   ]
  },
  {
   "cell_type": "markdown",
   "metadata": {},
   "source": [
    "El destructor se identifica con __del__, se ejecuta automáticamente cuando se destruye la última referencia a un objeto, es decir cuando ya no podemos acceder al mismo. El destructor no tiene ningún parámetro adicional al self."
   ]
  },
  {
   "cell_type": "code",
   "execution_count": null,
   "metadata": {},
   "outputs": [
    {
     "name": "stdout",
     "output_type": "stream",
     "text": [
      "Juan: -Hola, Paco, cuanto tiempo sin vernos\n",
      "Paco: -Hola, Juan, un gusto volverte a ver\n",
      "Juan: -Bla bla bla \n",
      "Paco: -Bla bla bla \n",
      "Juan: -Bla bla bla bla \n",
      "Paco: -Bla bla bla bla \n",
      "\n"
     ]
    }
   ],
   "source": [
    "# Antes de continuar veamos otras formas de llegar al mismo resultado. Utilizando una clase para el saludo:\n",
    "class Persona:\n",
    "    def __init__(self, nombre :str) -> None:\n",
    "        self.nombre = nombre\n",
    "    \n",
    "class Saludo:\n",
    "    def __init__(self, de :Persona, a :Persona):\n",
    "        self.de = de\n",
    "        self.a = a\n",
    "\n",
    "    def saludar(self) -> str:\n",
    "        return f\"{self.de.nombre}: -Hola, {self.a.nombre}, cuanto tiempo sin vernos\"\n",
    "    \n",
    "    def devolver_saludo(self):\n",
    "        return f\"{self.a.nombre}: -Hola, {self.de.nombre}, un gusto volverte a ver\"\n",
    "\n",
    "class Conversacion:\n",
    "    def __init__(self, p1 :Persona, p2 :Persona):\n",
    "        self.p1 = p1\n",
    "        self.p2 = p2\n",
    "    def conversar(self) -> str:\n",
    "        conversacion = f\"{self.p1.nombre}: -Bla bla bla \\n\"\n",
    "        conversacion += f\"{self.p2.nombre}: -Bla bla bla \\n\"\n",
    "        conversacion += f\"{self.p1.nombre}: -Bla bla bla bla \\n\"\n",
    "        conversacion += f\"{self.p2.nombre}: -Bla bla bla bla \\n\"\n",
    "        return conversacion\n",
    "    \n",
    "def main() -> None:\n",
    "    juan = Persona(\"Juan\")\n",
    "    paco = Persona(\"Paco\")\n",
    "    \n",
    "    saludo = Saludo(de=juan, a=paco)\n",
    "    print(saludo.saludar())\n",
    "    print(saludo.devolver_saludo())\n",
    "\n",
    "    conversar = Conversacion(juan, paco)\n",
    "    print(conversar.conversar())\n",
    "\n",
    "if __name__ == \"__main__\":\n",
    "    main()"
   ]
  },
  {
   "cell_type": "code",
   "execution_count": null,
   "metadata": {},
   "outputs": [],
   "source": [
    "# El -> None que ves en la definición del método __init__ es una anotación de tipo en Python. Indica que el método no retorna ningún valor.\n",
    "\n",
    "# Ejemplo:\n",
    "class Persona:\n",
    "    def __init__(self, nombre: str) -> None:\n",
    "        self.nombre = nombre\n",
    "\n",
    "# Aquí:\n",
    "nombre: str # indica que el parámetro nombre debe ser una cadena de texto (str).\n",
    "# -> None significa que el método no devuelve nada.\n",
    "\n",
    "# ¿Por qué None?\n",
    "# El método __init__ no debe retornar nada explícitamente, porque su función es inicializar un objeto. Si intentaras devolver algo con return, obtendrías un error.\n",
    "# Ejemplo incorrecto:\n",
    "\n",
    "class Persona:\n",
    "    def __init__(self, nombre: str) -> str:  # Incorrecto, no debería retornar str\n",
    "        self.nombre = nombre\n",
    "        return nombre  # Esto generaría un error\n",
    "# Si intentas esto, Python te dirá que __init__ no puede retornar un valor distinto de None.\n",
    "\n",
    "# ¿Es obligatorio -> None?\n",
    "# No, es opcional. Python no obliga a usar anotaciones de tipo. Es solo una guía para el programador y herramientas como linters o IDEs.\n",
    "\n",
    "# Esto funciona igual:\n",
    "\n",
    "class Persona:\n",
    "    def __init__(self, nombre):\n",
    "        self.nombre = nombre\n",
    "# Pero usar -> None hace que el código sea más claro y fácil de leer."
   ]
  },
  {
   "cell_type": "code",
   "execution_count": 8,
   "metadata": {},
   "outputs": [
    {
     "name": "stdout",
     "output_type": "stream",
     "text": [
      "Juan: -Hola, Paco, cuanto tiempo sin vernos\n",
      "Paco: -Hola, Juan, un gusto volverte a ver\n",
      "Juan: -Bla bla bla \n",
      "Paco: -Bla bla bla \n",
      "Juan: -Bla bla bla bla \n",
      "Paco: -Bla bla bla bla \n",
      "\n"
     ]
    }
   ],
   "source": [
    "# También podemos hacer lo mismo utilizando funciones para los saludos y la conversación:\n",
    "\n",
    "class Persona:\n",
    "    def __init__(self, nombre :str) -> None:\n",
    "        self.nombre = nombre\n",
    "\n",
    "def saludar(de :Persona, a :Persona) -> str:\n",
    "    return f\"{de.nombre}: -Hola, {a.nombre}, cuanto tiempo sin vernos\"\n",
    "\n",
    "def devolver_saludo(de :Persona, a :Persona) -> str:\n",
    "    return f\"{de.nombre}: -Hola, {a.nombre}, un gusto volverte a ver\"\n",
    "\n",
    "def conversar(p1 :Persona, p2 :Persona) -> str:\n",
    "    conversacion = f\"{p1.nombre}: -Bla bla bla \\n\"\n",
    "    conversacion += f\"{p2.nombre}: -Bla bla bla \\n\"\n",
    "    conversacion += f\"{p1.nombre}: -Bla bla bla bla \\n\"\n",
    "    conversacion += f\"{p2.nombre}: -Bla bla bla bla \\n\"\n",
    "    return conversacion\n",
    "\n",
    "def main():\n",
    "    juan = Persona(\"Juan\")\n",
    "    paco = Persona(\"Paco\")\n",
    "    print(saludar(de=juan, a=paco))\n",
    "    print(devolver_saludo(de=paco, a=juan))\n",
    "    print(conversar(juan, paco))\n",
    "\n",
    "if __name__ == \"__main__\":\n",
    "    main()"
   ]
  },
  {
   "cell_type": "code",
   "execution_count": 9,
   "metadata": {},
   "outputs": [
    {
     "name": "stdout",
     "output_type": "stream",
     "text": [
      "Juan: -Hola, Paco, cuanto tiempo sin vernos\n",
      "Paco: -Hola, Juan, un gusto volverte a ver\n",
      "Juan: -Bla bla bla \n",
      "Paco: -Bla bla bla \n",
      "Juan: -Bla bla bla bla \n",
      "Paco: -Bla bla bla bla \n",
      "\n"
     ]
    }
   ],
   "source": [
    "# Y hasta podemos hacerlo sin utilizar clases y objetos:\n",
    "\n",
    "def saludar(de :dict, a :dict) -> str:\n",
    "    return f\"{de['nombre']}: -Hola, {a['nombre']}, cuanto tiempo sin vernos\"\n",
    "\n",
    "def devolver_saludo(de :dict, a :dict) -> str:\n",
    "    return f\"{de['nombre']}: -Hola, {a['nombre']}, un gusto volverte a ver\"\n",
    "\n",
    "def conversar(p1 :dict, p2 :dict) -> str:\n",
    "    conversacion = f\"{p1['nombre']}: -Bla bla bla \\n\"\n",
    "    conversacion += f\"{p2['nombre']}: -Bla bla bla \\n\"\n",
    "    conversacion += f\"{p1['nombre']}: -Bla bla bla bla \\n\"\n",
    "    conversacion += f\"{p2['nombre']}: -Bla bla bla bla \\n\"\n",
    "    return conversacion\n",
    "\n",
    "def main():\n",
    "    juan = {\"nombre\": \"Juan\"}\n",
    "    paco = {\"nombre\": \"Paco\"}\n",
    "    print(saludar(de=juan, a=paco))\n",
    "    print(devolver_saludo(de=paco, a=juan))\n",
    "    print(conversar(juan, paco))\n",
    "\n",
    "if __name__ == \"__main__\":\n",
    "    main()"
   ]
  },
  {
   "cell_type": "code",
   "execution_count": 15,
   "metadata": {},
   "outputs": [
    {
     "name": "stdout",
     "output_type": "stream",
     "text": [
      "Con datos atómicos:\n",
      "a: 5\n",
      "b: 5\n",
      "a: 5\n",
      "b: 8\n",
      " \n",
      "Con listas:\n",
      "a: [5, 6, 7]\n",
      "b: [5, 6, 7]\n",
      "a: [5, 6, 7, 8]\n",
      "b: [5, 6, 7, 8]\n",
      " \n",
      "Con objetos:\n",
      "a: 5\n",
      "b: 5\n",
      "a: 8\n",
      "b: 8\n",
      " \n"
     ]
    }
   ],
   "source": [
    "# Pero en Python.... no siempre es así. Hay veces que \"=\" se comporta de otra manera. Veamos unos ejemplos.\n",
    "\n",
    "print('Con datos atómicos:')\n",
    "a = 5\n",
    "b = a\n",
    "print(\"a:\",a)\n",
    "print(\"b:\",b)\n",
    "b = 8\n",
    "print(\"a:\",a)\n",
    "print(\"b:\",b)\n",
    "print(' ')\n",
    "#Como ven al hacer b = a se hace una copia del valor (5) pero ambas variables son independientes, al modificar el valor de una (b = 8), la otra no se modifica.\n",
    "\n",
    "print('Con listas:')\n",
    "a = [5,6,7]\n",
    "b = a\n",
    "print(\"a:\",a)\n",
    "print(\"b:\",b)\n",
    "b.append(8)\n",
    "print(\"a:\",a)\n",
    "print(\"b:\",b)\n",
    "print(' ')\n",
    "#Como ven al hacer b = a, b es una instancia de a, es decir a y b apuntan a la misma lista. Al modificar la lista b, también se modifica la a. Vean en la documentación como copiar listas.\n",
    "\n",
    "print('Con objetos:')\n",
    "class Dato:\n",
    "    def __init__(self,dato):\n",
    "        self.dato = dato\n",
    "    \n",
    "a = Dato(5)\n",
    "b = a\n",
    "print(\"a:\",a.dato)\n",
    "print(\"b:\",b.dato)\n",
    "b.dato = 8\n",
    "print(\"a:\",a.dato)\n",
    "print(\"b:\",b.dato)\n",
    "print(' ')\n",
    "# Como ven al hacer b = a, b es una instancia de a, es decir a y b apuntan al mismo objeto. Al modificar el objeto b, también se modifica el a. Vean en la documentación como copiar objetos."
   ]
  },
  {
   "cell_type": "code",
   "execution_count": 19,
   "metadata": {},
   "outputs": [
    {
     "name": "stdout",
     "output_type": "stream",
     "text": [
      "Hola, Juan\n",
      "Hola, Pedro\n",
      "Hola, Tomas\n",
      "Hola, Daniel\n"
     ]
    }
   ],
   "source": [
    "class Persona:\n",
    "# Clase generica para personas Guarda nombre y edad\n",
    "    def __init__(self, nombre: str, edad: int):\n",
    "        self.nombre = nombre\n",
    "        self.edad = edad\n",
    "\n",
    "mis_amigos = []\n",
    "mis_amigos.append(Persona(\"Juan\",35))\n",
    "mis_amigos.append(Persona(\"Pedro\",45))\n",
    "mis_amigos.append(Persona(\"Tomas\",55))\n",
    "mis_amigos.append(Persona(\"Daniel\",35))\n",
    "\n",
    "for amigo in mis_amigos:\n",
    "    print(\"Hola,\",amigo.nombre)\n",
    "# Como ven mis_amigos es una lista de objetos, instancias de la clase Persona. Cada elemento de la lista es un objeto y podemos iterar por todos ellos con un for"
   ]
  },
  {
   "cell_type": "code",
   "execution_count": null,
   "metadata": {},
   "outputs": [
    {
     "name": "stdout",
     "output_type": "stream",
     "text": [
      "No tengo hijos\n",
      "Solo se puede agregar una persona como hijo\n",
      "Mis hijos son\n",
      "Leo\n",
      "Lila\n"
     ]
    }
   ],
   "source": [
    "# Objetos con listas: Un atributo de un objeto puede ser una lista, la que puede almacenar un conjunto de cualquier cosa dentro.\n",
    "\n",
    "class Persona:\n",
    "    \"\"\"Clase generica para personas Guarda nombre, edad y los hijos\"\"\"\n",
    "    hijos = []\n",
    "    \n",
    "    def __init__(self, nombre: str, edad: int):\n",
    "        self.nombre = nombre\n",
    "        self.edad = edad\n",
    "    \n",
    "    def agregar_hijo(self,hijo):\n",
    "        if isinstance(hijo, Persona):\n",
    "            self.hijos.append(hijo)\n",
    "        else:\n",
    "            print(\"Solo se puede agregar una persona como hijo\")\n",
    "        \n",
    "    def listar_hijos(self):\n",
    "        if len(self.hijos) > 0:\n",
    "            print(\"Mis hijos son\")\n",
    "            for hijo in self.hijos:\n",
    "                print(hijo.nombre)\n",
    "        else:\n",
    "            print(\"No tengo hijos\")\n",
    "\n",
    "padre=Persona(\"Juan\",45)\n",
    "padre.listar_hijos()\n",
    "padre.agregar_hijo(Persona(\"Leo\",5))\n",
    "padre.agregar_hijo(Persona(\"Lila\",3))\n",
    "padre.agregar_hijo(\"Pedro\")\n",
    "padre.listar_hijos()\n",
    "\n",
    "# El resultado de abajo esta bien ya que prueba todas las posibilidades.\n",
    "# El error estaría en que si hay dos personas le agregaria el mismo hijo a ambas."
   ]
  }
 ],
 "metadata": {
  "kernelspec": {
   "display_name": "Python 3",
   "language": "python",
   "name": "python3"
  },
  "language_info": {
   "codemirror_mode": {
    "name": "ipython",
    "version": 3
   },
   "file_extension": ".py",
   "mimetype": "text/x-python",
   "name": "python",
   "nbconvert_exporter": "python",
   "pygments_lexer": "ipython3",
   "version": "3.13.1"
  }
 },
 "nbformat": 4,
 "nbformat_minor": 2
}
